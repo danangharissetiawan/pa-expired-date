{
 "cells": [
  {
   "cell_type": "code",
   "execution_count": null,
   "metadata": {},
   "outputs": [],
   "source": []
  }
 ],
 "metadata": {
  "kernelspec": {
   "display_name": "Python 3.7.13 ('tf')",
   "language": "python",
   "name": "python3"
  },
  "language_info": {
   "name": "python",
   "version": "3.7.13"
  },
  "orig_nbformat": 4,
  "vscode": {
   "interpreter": {
    "hash": "9819c38625e3d453af23400f3105fdafaf1e618a5986311776fa7a8a0649173a"
   }
  }
 },
 "nbformat": 4,
 "nbformat_minor": 2
}
